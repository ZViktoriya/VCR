{
 "cells": [
  {
   "cell_type": "code",
   "execution_count": 8,
   "id": "5ee97702",
   "metadata": {},
   "outputs": [],
   "source": [
    "from tensorflow import keras\n",
    "import pandas as pd\n",
    "model_loaded = keras.models.load_model(\"model\") #путь к модели"
   ]
  },
  {
   "cell_type": "code",
   "execution_count": 1,
   "id": "13a846a2",
   "metadata": {},
   "outputs": [],
   "source": [
    "col=['Cоотношение матрица-наполнитель %',  'Плотность, кг/м3 %', 'модуль упругости, ГПа %','Количество отвердителя, м.% %','Содержание эпоксидных групп,%_2 %','Температура вспышки, С_2 %','Поверхностная плотность, г/м2 %','Модуль упругости при растяжении,ГПа %','Потребление смолы, г/м2 %','Угол нашивки, град %','Шаг нашивки %','Плотность нашивки %']\n",
    "input_val = pd.DataFrame()\n",
    "collumns={\n",
    "\"Плотность, кг/м3: \" :0,\n",
    "\"модуль упругости, ГПа: \":0,\n",
    "\"Количество отвердителя, м.%: \":0,\n",
    "\"Содержание эпоксидных групп,%_2: \":0,\n",
    "\"Температура вспышки, С_2: \":0,\n",
    "\"Поверхностная плотность, г/м2: \":0,\n",
    "\"Модуль упругости при растяжении, ГПа: \":0,\n",
    "\"Прочность при растяжении, МПа: \":0,\n",
    "\"Потребление смолы, г/м2\t999.0: \":0,\n",
    "\"Угол нашивки, град: \":0,\n",
    "\"Шаг нашивки: \":0,\n",
    "\"Плотность нашивки: \":0,\n",
    "}\n",
    "print(\"Модель прогноза 'Соотношение матрица-наполнитель'\")\n",
    "for collumn_name in collumns:\n",
    "    while True:\n",
    "        try:\n",
    "            param_val = input(line)\n",
    "            param_value=float(param_val)\n",
    "        except:\n",
    "            print(\"ОШИБКА введите числовое значение\")\n",
    "            continue\n",
    "        break\n",
    "df= pd.DataFrame([j],columns =col)\n",
    "test_predictions = model_loaded.predict(df).flatten()\n",
    "print(\"  Прогнозное значение 'Соотношение матрица-наполнитель:\",str(test_predictions)[1:-1])"
   ]
  }
 ],
 "metadata": {
  "interpreter": {
   "hash": "916dbcbb3f70747c44a77c7bcd40155683ae19c65e1c03b4aa3499c5328201f1"
  },
  "kernelspec": {
   "display_name": "Python 3.8.10 64-bit",
   "language": "python",
   "name": "python3"
  },
  "language_info": {
   "codemirror_mode": {
    "name": "ipython",
    "version": 3
   },
   "file_extension": ".py",
   "mimetype": "text/x-python",
   "name": "python",
   "nbconvert_exporter": "python",
   "pygments_lexer": "ipython3",
   "version": "3.8.10"
  }
 },
 "nbformat": 4,
 "nbformat_minor": 5
}
